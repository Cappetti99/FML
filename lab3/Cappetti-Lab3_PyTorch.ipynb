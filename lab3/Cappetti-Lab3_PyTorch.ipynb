{
 "cells": [
  {
   "cell_type": "markdown",
   "id": "9bdf7099-a6d0-4b18-9216-f8e6701842f6",
   "metadata": {},
   "source": [
    "# Laboratory 3: Getting started with Pytorch\n",
    "\n",
    "In this laboratory we will begin working with Pytorch to implement and train complex, nonlinear models for supervised learning problems. You will notice many similarities between Numpy and Pytorch -- this is deliberate, but it can cause some confusion and for many things we will have to convert back and forth between Numpy arrays and Pytorch tensors."
   ]
  },
  {
   "cell_type": "markdown",
   "id": "b3117a44-c264-469e-91b6-2cc445413903",
   "metadata": {},
   "source": [
    "## Part 0: First steps\n",
    "\n",
    "**Important**: You **must** install Pytorch in your Anaconda environment for this laboratory. The easiest way to do this is to just install the CPU version of Pytorch like this:\n",
    "\n",
    "```\n",
    "conda activate FML\n",
    "conda install -c pytorch pytorch torchvision\n",
    "```\n",
    "\n",
    "**Note**: If you have an Nvidia GPU on your computer you can also install the GPU-enabled version of Pytorch which will **greatly** improve performance for more complex models and larger datasets. However, it can be very hard to get all of the versions of the required libraries to match correctly... During the laboratory we can look at it together if you are interested.\n",
    "\n",
    "After installing Pytorch, use the next cell to verify that the installation is working. If it prints a 3x3 sensor, we're good to go."
   ]
  },
  {
   "cell_type": "code",
   "execution_count": null,
   "id": "bfcdca90-bf99-4c35-b7e3-961f6ba45cfa",
   "metadata": {},
   "outputs": [],
   "source": [
    "# We're still going to need numpy and matplotlib.\n",
    "import numpy as np\n",
    "import matplotlib.pyplot as plt\n",
    "import random\n",
    "\n",
    "# Verify that pytorch is working.\n",
    "import torch\n",
    "\n",
    "# If this works, things should be OK.\n",
    "print(torch.randn((3, 3)))"
   ]
  },
  {
   "cell_type": "markdown",
   "id": "5b6f7466-0f8f-406e-a4e7-24e8a8135f8a",
   "metadata": {},
   "source": [
    "## Part 1: Dataset preparation"
   ]
  },
  {
   "cell_type": "markdown",
   "id": "8ebc2242-e79a-4e67-af09-8318126dde0e",
   "metadata": {},
   "source": [
    "We will work with the venerable MNIST dataset of handwritten digits in this laboratory. The `torchvision` library provides classes for a bunch of standard datasets, including MNIST. These classes automatically download and prepare the dataset for use."
   ]
  },
  {
   "cell_type": "code",
   "execution_count": null,
   "id": "3af0151f-9897-4fa0-8832-4603979427df",
   "metadata": {},
   "outputs": [],
   "source": [
    "# Download and load the MNIST dataset.\n",
    "from torchvision.datasets import MNIST\n",
    "import torchvision\n",
    "\n",
    "# Load the MNIST training and test splits.\n",
    "ds_train = MNIST(root='./data', download=True, train=True)\n",
    "ds_test  = MNIST(root='./data', download=True, train=False)"
   ]
  },
  {
   "cell_type": "code",
   "execution_count": null,
   "id": "eb2cf73b",
   "metadata": {},
   "outputs": [],
   "source": [
    "display(ds_train)\n",
    "display(ds_test)"
   ]
  },
  {
   "cell_type": "markdown",
   "id": "d8f7fc9b-2a69-48eb-bea1-9cf97117ebf8",
   "metadata": {},
   "source": [
    "### Exercise 1.1: Exploratory data analysis\n",
    "\n",
    "Spend some time inspecting the `ds_train` and `ds_test` data structures in order to get a feel for the data. What is the format? How big are the images? How many are there? What about the range of pixel values? Where are the labels for images?\n",
    "\n",
    "Remember that one of the best ways to explore is to *visualize*."
   ]
  },
  {
   "cell_type": "code",
   "execution_count": null,
   "id": "81157a27-3c60-432d-b3a0-6b6741f42747",
   "metadata": {},
   "outputs": [],
   "source": [
    "# Print some information about the dataset\n",
    "print(\"Number of training examples:\", len(ds_train))\n",
    "print(\"Number of test examples:\", len(ds_test))\n",
    "print(\"Image size:\", ds_train[0][0].size)\n",
    "\n",
    "# Plot a few sample images from the training set\n",
    "fig, axes = plt.subplots(2, 5, figsize=(10, 4))\n",
    "for i in range(2):\n",
    "    for j in range(5):\n",
    "        image, label = ds_train[i * 5 + j]\n",
    "        axes[i, j].imshow(image, cmap='summer') #summer\n",
    "        axes[i, j].set_title(f\"Label: {label}\")\n",
    "        axes[i, j].axis('off')\n",
    "\n",
    "plt.show()"
   ]
  },
  {
   "cell_type": "code",
   "execution_count": null,
   "id": "4e455494",
   "metadata": {},
   "outputs": [],
   "source": [
    "# Create a random permutation of indices for the first 100 images in the training set\n",
    "random_indices = np.random.permutation(ds_train.data.shape[0])[:100]\n",
    "\n",
    "plt.figure(figsize=(10, 10))\n",
    "\n",
    "# Visualize the first 100 randomly selected images from the training set\n",
    "for i, index in enumerate(random_indices):\n",
    "    # Subplot organization: 10 rows, 10 columns, i+1 refers to the current subplot index\n",
    "    plt.subplot(10, 10, i+1)\n",
    "\n",
    "    # Display the image with random colormap\n",
    "    plt.imshow(ds_train.data[index], cmap=\"summer\")\n",
    "\n",
    "    \n",
    "    # Set the title with the corresponding label\n",
    "    plt.title(f\"Label: {ds_train.targets[index]}\")\n",
    "    \n",
    "    # Turn off axis ticks for cleaner visualization\n",
    "    plt.axis('off')\n",
    "\n",
    "# Adjust layout for better spacing\n",
    "plt.tight_layout()\n",
    "\n",
    "# Display the visualization\n",
    "plt.show()\n"
   ]
  },
  {
   "cell_type": "markdown",
   "id": "f387e82e",
   "metadata": {},
   "source": [
    "commenta i colori\n"
   ]
  },
  {
   "cell_type": "markdown",
   "id": "d1f462b0-0bd1-4501-8b96-d34e8e873e8a",
   "metadata": {},
   "source": [
    "### Exercise 1.2: Dataset conversion and normalization\n",
    "\n",
    "+ **Datatype Conversion**:\n",
    "The first thing we need to do is convert all data tensors to `torch.float32` -- this is fundamental as it is extremely inconvenient to work with `uint8` data. Using 32-bit floating point numbers is a compromise between precision and space efficiency.\n",
    "The `torch.Tensor` class has a very useful method `to()` for performing datatype and device (e.g. to GPU) conversions. Check out the [documentation here](https://pytorch.org/docs/stable/generated/torch.Tensor.to.html#torch-tensor-to).\n",
    "\n",
    "+ **Normalization**:\n",
    "Next, we need to correct the inconvenient range of [0, 255] for the pixel values. You should *subtract* the mean intensity value and divide by the standard deviation in order to *standardize* our data. **Important**: Think *very carefully* about *which* split you should use to compute the pixel statistics for standardization.\n",
    "\n",
    "+ **Reshaping**: Is the data in an appropriate format (i.e. shape) for the training the models we know? Think about whether (and how) to fix this if needed. \n",
    "\n",
    "**What to do**: In the cell below you should perform this sequence preprocessing operations on the `ds_train.data` and `ds_test.data` tensors. "
   ]
  },
  {
   "cell_type": "code",
   "execution_count": null,
   "id": "46b71841-b3a6-4887-8c62-450aa4b36b5f",
   "metadata": {},
   "outputs": [],
   "source": [
    "# Your code here.\n",
    "import torch\n",
    "\n",
    "Xs_train = ds_train.data.to(torch.float32)\n",
    "ys_train = ds_train.targets\n",
    "Xs_test = ds_test.data.to(torch.float32)\n",
    "ys_test = ds_test.targets\n",
    "\n",
    "mean_px = Xs_train.mean()\n",
    "std_px = Xs_train.std()\n",
    "Xs_train = (Xs_train - mean_px) / std_px\n",
    "Xs_test = (Xs_test - mean_px) / std_px\n",
    "\n",
    "Xs_train.mean(), Xs_train.std(), Xs_test.mean(), Xs_test.std()"
   ]
  },
  {
   "cell_type": "code",
   "execution_count": null,
   "id": "d440f845",
   "metadata": {},
   "outputs": [],
   "source": [
    "Xs_train.flatten(1).shape"
   ]
  },
  {
   "cell_type": "code",
   "execution_count": null,
   "id": "c6e7d69a",
   "metadata": {},
   "outputs": [],
   "source": [
    "Xs_test.flatten(1).shape"
   ]
  },
  {
   "cell_type": "code",
   "execution_count": null,
   "id": "2b930511",
   "metadata": {},
   "outputs": [],
   "source": [
    "plt.imshow(Xs_train[0], cmap='gray')"
   ]
  },
  {
   "cell_type": "markdown",
   "id": "f68fcf34-8efe-4224-8138-8739d6c2c23f",
   "metadata": {},
   "source": [
    "### Exercise 1.3: Subsampling the MNIST dataset.\n",
    "\n",
    "MNIST is kind of big, and thus inconvenient to work with unless using the GPU. For this laboratory we will use a smaller subset of the dataset for training to keep memory and computation times low.\n",
    "\n",
    "Modify `ds.train` to use only a subset of, say, 10000 images sampled from the original data. Make sure to select the correct corresponding targets.\n"
   ]
  },
  {
   "cell_type": "code",
   "execution_count": null,
   "id": "74d2ea58-1f86-42fe-b867-f824e4966ab6",
   "metadata": {},
   "outputs": [],
   "source": [
    "# Your code here.\n",
    "train_size = 10000\n",
    "I = np.random.permutation(range(len(Xs_train)))[:train_size]\n",
    "Xs_train_i = Xs_train[I]\n",
    "ys_train_i = ys_train[I]\n",
    "\n",
    "Xs_train_i = Xs_train_i.flatten(start_dim=1)\n",
    "Xs_test_i = Xs_test.flatten(start_dim=1)\n",
    "\n",
    "Xs_train_i.shape, Xs_test_i.shape"
   ]
  },
  {
   "cell_type": "markdown",
   "id": "8d557069-7f6d-4765-938f-6ff3e360b15d",
   "metadata": {},
   "source": [
    "## Establishing a stable baseline\n",
    "\n",
    "In this exercise you will establish a reliable baseline using a classical approach. This is an important step in our methodology in order to judge whether our Deep MLP is performing well or not.\n",
    "\n",
    "### Exercise 2.1: Establish the stable baseline\n",
    "\n",
    "Train and test your stable baseline to estimate the best achievable accuracy using classical models.\n",
    "\n",
    "**Tip**: Don't do any extensive cross-validation of your baseline (for now). Just fit a simple model (e.g. a linear SVM) and record the accuracy.\n",
    "\n"
   ]
  },
  {
   "cell_type": "code",
   "execution_count": null,
   "id": "d4bf8cf7-0632-46fa-b97e-32eef1f166ae",
   "metadata": {},
   "outputs": [],
   "source": [
    "# Your code here.\n",
    "from sklearn.svm import LinearSVC\n",
    "from sklearn.metrics import accuracy_score\n",
    "from sklearn.metrics import classification_report\n",
    "import seaborn as sns\n",
    "from sklearn.metrics import confusion_matrix\n",
    "\n",
    "max_iter = 1000\n",
    "\n",
    "svc = LinearSVC(max_iter=max_iter)\n",
    "svc.fit(Xs_train_i, ys_train_i)\n",
    "\n",
    "preds = svc.predict(Xs_test_i)\n",
    "accuracy_score(ys_test.numpy(), preds)\n",
    "print(\"Accuracy: \", accuracy_score(ys_test, preds))\n",
    "\n",
    "print(\"Classification report: \")\n",
    "print(classification_report(ys_test, svc.predict(Xs_test_i)))\n",
    "\n",
    "cm = confusion_matrix(ys_test, preds)\n",
    "\n",
    "plt.figure(figsize=(10, 10))\n",
    "sns.heatmap(cm, annot=True, fmt='d', cmap='Blues')\n",
    "plt.xlabel('Predicted label')\n",
    "plt.ylabel('True label')\n",
    "plt.title('Confusion matrix')\n",
    "plt.show()\n"
   ]
  },
  {
   "cell_type": "markdown",
   "id": "e2a93ac4",
   "metadata": {},
   "source": [
    "analisi del perchè mi venga un accuracy di 0.87"
   ]
  },
  {
   "cell_type": "code",
   "execution_count": null,
   "id": "7312e7a8",
   "metadata": {},
   "outputs": [],
   "source": [
    "from sklearn.svm import SVC\n",
    "from sklearn.metrics import accuracy_score, classification_report\n",
    "import seaborn as sns\n",
    "from sklearn.metrics import confusion_matrix\n",
    "\n",
    "Xs_test = Xs_test.flatten(-2)\n",
    "# Reshape the data if needed (SVC expects 2D input)\n",
    "Xs_train_2d = Xs_train_i.reshape(Xs_train_i.shape[0], -1)\n",
    "Xs_test_2d = Xs_test.reshape(Xs_test.shape[0], -1)\n",
    "\n",
    "# Instantiate the Support Vector Classifier (SVC)\n",
    "svc = SVC()\n",
    "\n",
    "# Fit the model on the training data\n",
    "svc.fit(Xs_train_2d, ys_train_i)\n",
    "\n",
    "# Predict the labels for the test data\n",
    "predictions = svc.predict(Xs_test)\n",
    "\n",
    "# Calculate accuracy\n",
    "accuracy = accuracy_score(ys_test.numpy(), svc.predict(Xs_test_2d))\n",
    "print(\"Accuracy:\", accuracy)\n",
    "\n",
    "# Display classification report\n",
    "print(\"Classification Report:\")\n",
    "print(classification_report(predictions, ys_test))\n",
    "\n",
    "# Confusion Matrix\n",
    "cm = confusion_matrix(ys_test, predictions)\n",
    "\n",
    "# Visualize the Confusion Matrix\n",
    "plt.figure(figsize=(10, 10))\n",
    "sns.heatmap(cm, annot=True, fmt='d', cmap='Blues', xticklabels=['Predicted 0', 'Predicted 1'], yticklabels=['Actual 0', 'Actual 1'])\n",
    "plt.xlabel('Predicted Label')\n",
    "plt.ylabel('True Label')\n",
    "plt.title('Confusion Matrix')\n",
    "plt.show()"
   ]
  },
  {
   "cell_type": "markdown",
   "id": "d6962c5f",
   "metadata": {},
   "source": [
    "commenta perchè questo è meglio"
   ]
  },
  {
   "cell_type": "markdown",
   "id": "215ded91-0fc9-4923-883f-548adebbc4a1",
   "metadata": {},
   "source": [
    "## Part 3: Training some deep models (finally)\n",
    "\n",
    "Now we will finally train some deep models (Multilayer Perceptrons, to be precise). Since the dataset is a bit too large to use batch gradient descent, we will first need to setup a `torch.utils.data.DataLoader` for our training data. A `DataLoader` breaks the dataset up into a sequence of *batches* that will be used for training. In order to use this, we will first have to use `torch.utils.data.TensorDataset` on `ds_train.data` and `ds_train.targets` to make a new torch `dataset` for use in the dataloader. \n",
    "\n",
    "### Exercise 3.1: Creating the DataLoader\n",
    "\n",
    "Create a `DataLoader` for `ds_train` use a `batch_size` of about 16 or 32 to start. After you have your `DataLoader` experiment with is using `next(iter(dl_train))` to see what it returns. The pytorch `DataLoader` is a Python iterator.\n",
    "\n",
    "**EXTREMELY IMPORTANT**: Make sure you use `shuffle=True` in the constructor of your dataloader."
   ]
  },
  {
   "cell_type": "code",
   "execution_count": null,
   "id": "cf280cd7-418f-4ed4-9ae8-4bb9a618e66d",
   "metadata": {},
   "outputs": [],
   "source": [
    "# Your code here.\n",
    "from torch.utils.data import DataLoader, TensorDataset\n",
    "\n",
    "batch_size = 32\n",
    "\n",
    "ds = TensorDataset(Xs_train_i, ys_train_i)\n",
    "dl_train = DataLoader(ds, batch_size=batch_size, shuffle=True)\n",
    "\n",
    "len(dl_train)\n",
    "\n",
    "batch = next(iter(dl_train))\n",
    "print(\"Feature shape:\", batch[0].shape)\n",
    "print(\"Target shape:\", batch[1].shape)"
   ]
  },
  {
   "cell_type": "markdown",
   "id": "96c40712-538f-4efa-9752-f58a866d357f",
   "metadata": {},
   "source": [
    "### Some support code (NOT an exercise).\n",
    "\n",
    "Here is some support code that you can use to train a model for a **single** epoch. The function returns the mean loss over all iterations. You will use it in the next exercise to train and monitor training."
   ]
  },
  {
   "cell_type": "code",
   "execution_count": null,
   "id": "638ed76b-b385-46d2-904e-f2ee31b9a41d",
   "metadata": {},
   "outputs": [],
   "source": [
    "# Train a model for a single epoch. You should pass it a model, a dataloader,\n",
    "# and an optimizer. Returns the mean loss over the entire epoch.\n",
    "def train_epoch(model, dl, optimizer):\n",
    "    model.train()\n",
    "    losses = []\n",
    "    for (xs, ys) in dl:\n",
    "        optimizer.zero_grad()\n",
    "        output = model(xs)\n",
    "        loss = torch.nn.functional.nll_loss(output, ys) #compute the negative log likelihood loss\n",
    "        loss.backward() #compute the gradient \n",
    "        optimizer.step() #tell the optimizer to perform a gradient step\n",
    "        losses.append(loss.item())\n",
    "    model.eval()\n",
    "    return np.mean(losses)"
   ]
  },
  {
   "cell_type": "markdown",
   "id": "bcaaaf4a-7266-43b8-a5b6-c36c7cb087bc",
   "metadata": {},
   "source": [
    "### Exercise 3.2: Defining a 1-layer neural network\n",
    "\n",
    "Define a simple model that uses a **single** `torch.nn.Linear` layer followed by a `torch.nn.Softmax` to predict  the output probabilities for the ten classes."
   ]
  },
  {
   "cell_type": "code",
   "execution_count": null,
   "id": "1e6f6ae8-5826-44ab-9077-6358f7585f6a",
   "metadata": {},
   "outputs": [],
   "source": [
    "# Define a fresh model.\n",
    "import torch.nn as nn\n",
    "\n",
    "model = torch.nn.Sequential(\n",
    "    # Your code here.\n",
    "    nn.Linear(784, 10),\n",
    "    nn.LogSoftmax(dim=1)   # Specify dim=1 to apply LogSoftmax along the second dimension\n",
    ")\n"
   ]
  },
  {
   "cell_type": "markdown",
   "id": "0892210c-7b7c-4bab-a648-121d52190cb1",
   "metadata": {},
   "source": [
    "### Exercise 3.2: Training our model\n",
    "\n",
    "Instantiate a `torch.optim.SGD` optimizer using `model.parameters()` and the learning rate (**tip**: make the learning rate a variable you can easily change). Then run `train_epoch` for a set number of epochs (e.g. 100, make this a variable too). Is your model learning? How can you tell?"
   ]
  },
  {
   "cell_type": "code",
   "execution_count": null,
   "id": "c6ca7a8f-f7a9-4536-a4ba-51ab0e9fbead",
   "metadata": {
    "tags": []
   },
   "outputs": [],
   "source": [
    "# Your code here.\n",
    "from tqdm import tqdm\n",
    "\n",
    "model = torch.nn.Sequential(\n",
    "    # Your code here.\n",
    "    nn.Linear(784, 10),\n",
    "    nn.LogSoftmax(dim=1)   \n",
    ")\n",
    "\n",
    "epochs = 100\n",
    "lr = 1e-2   # Learning rate\n",
    "losses = []\n",
    "opt = torch.optim.SGD(model.parameters(),lr=lr)\n",
    "\n",
    "#Training loop\n",
    "for epoch in tqdm(range(epochs)):\n",
    "    loss = train_epoch(model, dl_train, opt)\n",
    "    losses.append(train_epoch(model, dl_train, opt))\n",
    "    \n",
    "plt.plot(losses)\n",
    "plt.xlabel('Epoch')\n",
    "plt.ylabel('Loss')\n",
    "plt.title('Training Loss')\n",
    "plt.show()\n",
    "\n",
    "\n",
    "print(\"Classification report: \")\n",
    "print(classification_report(ys_test, model(Xs_test_i).argmax(dim=1)))"
   ]
  },
  {
   "cell_type": "markdown",
   "id": "1d2209ce-48d6-4412-9973-456c2d0ae1f0",
   "metadata": {},
   "source": [
    "### Exercise 3.3: Evaluating our model\n",
    "\n",
    "Write some code to plot the loss curve for your training run and evaluate the performance of your model on the test data. Play with the hyperparameters (e.g. learning rate) to try to get the best performance on the test set. Can you beat the stable baseline?"
   ]
  },
  {
   "cell_type": "code",
   "execution_count": null,
   "id": "77cbde84",
   "metadata": {},
   "outputs": [],
   "source": [
    "import torch\n",
    "import matplotlib.pyplot as plt\n",
    "from torch.utils.data import DataLoader, TensorDataset\n",
    "\n",
    "# Funzione per calcolare l'accuratezza\n",
    "def compute_accuracy(model, X, y):\n",
    "    predictions = torch.argmax(model(X), dim=1)\n",
    "    return (predictions == y).float().mean().item()\n",
    "\n",
    "# Funzione per allenare il modello con una combinazione di iperparametri\n",
    "def train_with_hyperparameters(model, optimizer, data_loader, num_epochs):\n",
    "    train_loss_curve = []\n",
    "    for epoch in range(num_epochs):\n",
    "        train_loss = train_epoch(model, data_loader, optimizer)\n",
    "        train_loss_curve.append(train_loss)\n",
    "    return train_loss_curve\n",
    "\n",
    "# Funzione principale per allenare e valutare il modello\n",
    "def train_and_evaluate(model, learning_rate, batch_size, num_epochs):\n",
    "    # Configurazione iperparametri\n",
    "    optimizer = torch.optim.SGD(model.parameters(), lr=learning_rate)\n",
    "    train_loader = DataLoader(\n",
    "        TensorDataset(Xs_train_2d, ys_train_i),\n",
    "        batch_size=batch_size,\n",
    "        shuffle=True\n",
    "    )\n",
    "\n",
    "    # Allenamento\n",
    "    train_loss_curve = train_with_hyperparameters(model, optimizer, train_loader, num_epochs)\n",
    "\n",
    "    # Valutazione sul test set\n",
    "    test_accuracy = compute_accuracy(model, Xs_test_2d, ys_test)\n",
    "\n",
    "    return train_loss_curve, test_accuracy\n",
    "\n",
    "# Funzione per tracciare la curva di perdita\n",
    "def plot_loss_curve(train_loss_curve, learning_rate, batch_size):\n",
    "    plt.figure(figsize=(8, 6))\n",
    "    plt.plot(train_loss_curve, label=f\"LR: {learning_rate}, Batch: {batch_size}\")\n",
    "    plt.xlabel(\"Epoch\")\n",
    "    plt.ylabel(\"Training Loss\")\n",
    "    plt.title(\"Training Loss Curve\")\n",
    "    plt.legend()\n",
    "    plt.grid(True)\n",
    "    plt.show()\n",
    "\n",
    "def reset_parameters(model):\n",
    "    for layer in model.children():\n",
    "        if hasattr(layer, 'reset_parameters'):\n",
    "            layer.reset_parameters()\n",
    "\n",
    "# Iperparametri iniziali\n",
    "learning_rates = [0.0001, 0.001, 0.01]\n",
    "batch_sizes = [16, 64, 256]\n",
    "num_epochs = 100\n",
    "\n",
    "# Baseline per confronto\n",
    "accuracy_score_linearSVC = 0.88  # Accuracy ottenuta con LinearSVC\n",
    "accuracy_score_nl_SVC = 0.96  # Supponendo un baseline di accuratezza\n",
    "\n",
    "# Ricerca del miglior modello\n",
    "best_accuracy = 0.0\n",
    "best_hyperparameters = {}\n",
    "best_loss_curve = []\n",
    "\n",
    "for lr in learning_rates:\n",
    "    for batch_size in batch_sizes:\n",
    "        print(f\"Training with LR: {lr}, Batch Size: {batch_size}\")\n",
    "        model.apply(reset_parameters)  # Resetta i pesi del modello per ogni nuova combinazione\n",
    "        loss_curve, test_accuracy = train_and_evaluate(model, lr, batch_size, num_epochs)\n",
    "\n",
    "        if test_accuracy > best_accuracy:\n",
    "            best_accuracy = test_accuracy\n",
    "            best_hyperparameters = {'learning_rate': lr, 'batch_size': batch_size}\n",
    "            best_loss_curve = loss_curve\n",
    "\n",
    "        print(f\"Test Accuracy: {test_accuracy:.4f}\")\n",
    "\n",
    "# Traccia la curva di perdita del miglior modello\n",
    "print(\"\\nBest Hyperparameters:\")\n",
    "print(f\"Learning Rate: {best_hyperparameters['learning_rate']}, Batch Size: {best_hyperparameters['batch_size']}\")\n",
    "print(f\"Best Test Accuracy: {best_accuracy:.4f})\")\n",
    "\n",
    "if(best_accuracy > accuracy_score_nl_SVC):\n",
    "    print(\"The model is better than the Non-Linear SVC baseline and the Linear SVC baseline\")\n",
    "else:\n",
    "    if(best_accuracy > accuracy_score_linearSVC):\n",
    "        print(\"The model is better than the Linear SVC baseline\")\n",
    "    else:\n",
    "        print(\"The model is worse than both baselines\")\n",
    "\n",
    "plot_loss_curve(best_loss_curve, best_hyperparameters['learning_rate'], best_hyperparameters['batch_size'])"
   ]
  },
  {
   "cell_type": "markdown",
   "id": "8e7842b3",
   "metadata": {},
   "source": []
  },
  {
   "cell_type": "markdown",
   "id": "e4e688ba-cc3f-4445-ab6b-6675a446ba1c",
   "metadata": {},
   "source": [
    "## Going Deeper\n",
    "\n",
    "Now we will go (at least one layer) deeper to see if we can significantly improve on the baseline.\n",
    "\n",
    "### Exercise 3.4: A 2-layer MLP\n",
    "Define a new model with one hidden layer. Use the code you wrote above to train and evaluate this new model. Can you beat the baseline? You might need to train in two stages using different learning rates.\n",
    "\n",
    "**Things to think about**:\n",
    "\n",
    "+ It might be hard to beat (or even equal) the baseline with deeper networks. Why?\n",
    "+ Is there something else we should be monitoring while training, especially for deep networks?"
   ]
  },
  {
   "cell_type": "code",
   "execution_count": null,
   "id": "ce0c9686-49d7-4bc3-bbd9-0671547bd610",
   "metadata": {},
   "outputs": [],
   "source": [
    "# Import delle librerie necessarie\n",
    "import torch\n",
    "import torch.nn as nn\n",
    "import matplotlib.pyplot as plt\n",
    "from tqdm import tqdm\n",
    "from sklearn.metrics import classification_report\n",
    "\n",
    "# Dimensione dello strato nascosto\n",
    "inner_size = 256\n",
    "\n",
    "# Definizione del modello MLP con un livello nascosto\n",
    "model = torch.nn.Sequential(\n",
    "    nn.Linear(784, inner_size),  # Primo livello lineare\n",
    "    nn.ReLU(),                   # Funzione di attivazione ReLU\n",
    "    nn.Linear(inner_size, 10),   # Secondo livello lineare (uscita)\n",
    "    nn.LogSoftmax(dim=1)         # Softmax per classificazione logaritmica\n",
    ")\n",
    "\n",
    "# Parametri di configurazione\n",
    "epochs = 1000  # Numero di epoche\n",
    "lr = 1e-3     # Learning rate\n",
    "losses = []   # Per tracciare l'andamento della perdita\n",
    "\n",
    "# Ottimizzatore e funzione di perdita\n",
    "opt = torch.optim.SGD(model.parameters(), lr=lr)  # Stochastic Gradient Descent\n",
    "criterion = nn.NLLLoss()  # Negative Log Likelihood Loss per classificazione\n",
    "\n",
    "# Ciclo di addestramento\n",
    "for epoch in tqdm(range(epochs)):\n",
    "    model.train()  # Modalità di addestramento\n",
    "    total_loss = 0  # Inizializzazione della perdita totale\n",
    "    \n",
    "    for X_batch, y_batch in dl_train:  # dl_train è il dataloader di training\n",
    "        opt.zero_grad()  # Reset dei gradienti\n",
    "        output = model(X_batch)  # Forward pass\n",
    "        loss = criterion(output, y_batch)  # Calcolo della perdita\n",
    "        loss.backward()  # Backpropagation\n",
    "        opt.step()  # Aggiornamento dei pesi\n",
    "        total_loss += loss.item()  # Accumula la perdita\n",
    "    \n",
    "    # Salva la perdita media per ogni epoca\n",
    "    losses.append(total_loss / len(dl_train))\n",
    "\n",
    "# Grafico della perdita durante l'addestramento\n",
    "plt.plot(losses)\n",
    "plt.title('Loss Trend During Training')\n",
    "plt.xlabel('Epoch')\n",
    "plt.ylabel('Loss')\n",
    "plt.show()\n",
    "\n",
    "# Valutazione sul test set\n",
    "model.eval()  # Modalità di valutazione\n",
    "with torch.no_grad():  # Disabilita il calcolo dei gradienti\n",
    "    preds = torch.argmax(model(Xs_test_i), dim=1)  # Predizioni\n",
    "    print(classification_report(ys_test, preds))  # Report di classificazione"
   ]
  },
  {
   "attachments": {
    "image.png": {
     "image/png": "[encoded data removed]"
    }
   },
   "cell_type": "markdown",
   "id": "7c1cf1bb",
   "metadata": {},
   "source": [
    "100%|██████████| 1000/1000 [05:22<00:00,  3.10it/s]\n",
    "\n",
    "![image.png](attachment:image.png)\n",
    "\n",
    "\n",
    "\n",
    "              precision    recall  f1-score   support\n",
    "\n",
    "           0       0.96      0.98      0.97       980\n",
    "           1       0.98      0.99      0.98      1135\n",
    "           2       0.95      0.96      0.95      1032\n",
    "           3       0.95      0.96      0.95      1010\n",
    "           4       0.95      0.96      0.96       982\n",
    "           5       0.95      0.94      0.95       892\n",
    "           6       0.95      0.96      0.95       958\n",
    "           7       0.95      0.95      0.95      1028\n",
    "           8       0.96      0.94      0.95       974\n",
    "           9       0.95      0.93      0.94      1009\n",
    "\n",
    "    accuracy                           0.96     10000\n",
    "   macro avg       0.96      0.96      0.96     10000\n",
    "weighted avg       0.96      0.96      0.96     10000\n",
    "\n",
    "\n"
   ]
  }
 ],
 "metadata": {
  "kernelspec": {
   "display_name": "FML",
   "language": "python",
   "name": "python3"
  },
  "language_info": {
   "codemirror_mode": {
    "name": "ipython",
    "version": 3
   },
   "file_extension": ".py",
   "mimetype": "text/x-python",
   "name": "python",
   "nbconvert_exporter": "python",
   "pygments_lexer": "ipython3",
   "version": "3.8.20"
  }
 },
 "nbformat": 4,
 "nbformat_minor": 5
}
